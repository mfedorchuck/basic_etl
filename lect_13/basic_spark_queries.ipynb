{
 "cells": [
  {
   "cell_type": "code",
   "execution_count": 94,
   "id": "8795c7a7-1d85-494d-9c91-c0836327599a",
   "metadata": {
    "pycharm": {
     "name": "#%%\n"
    }
   },
   "outputs": [],
   "source": [
    "from pyspark.sql import SparkSession\n",
    "from pyspark.sql.functions import concat_ws, col"
   ]
  },
  {
   "cell_type": "code",
   "execution_count": 3,
   "id": "b33c6247-d50b-4af7-b64d-8bb51dbf6846",
   "metadata": {
    "pycharm": {
     "name": "#%%\n"
    }
   },
   "outputs": [
    {
     "name": "stdout",
     "output_type": "stream",
     "text": [
      "22/10/24 16:09:21 WARN Utils: Your hostname, mfedorchuk-pro15.local resolves to a loopback address: 127.0.0.1; using 172.16.66.36 instead (on interface en0)\n",
      "22/10/24 16:09:21 WARN Utils: Set SPARK_LOCAL_IP if you need to bind to another address\n"
     ]
    },
    {
     "name": "stderr",
     "output_type": "stream",
     "text": [
      "Setting default log level to \"WARN\".\n",
      "To adjust logging level use sc.setLogLevel(newLevel). For SparkR, use setLogLevel(newLevel).\n"
     ]
    },
    {
     "name": "stdout",
     "output_type": "stream",
     "text": [
      "22/10/24 16:09:23 WARN NativeCodeLoader: Unable to load native-hadoop library for your platform... using builtin-java classes where applicable\n",
      "22/10/24 16:09:23 WARN Utils: Service 'SparkUI' could not bind on port 4040. Attempting port 4041.\n"
     ]
    }
   ],
   "source": [
    "spark = SparkSession.builder.appName('notebook_session_2').getOrCreate()"
   ]
  },
  {
   "cell_type": "code",
   "execution_count": 6,
   "id": "8cb32e31-f77b-4dac-a134-9998f9988c96",
   "metadata": {
    "pycharm": {
     "name": "#%%\n"
    }
   },
   "outputs": [],
   "source": [
    "actor_df = spark.read.csv('./data/actor.csv', headder=True, inferSchema=True)\n",
    "address_df = spark.read.csv('./data/address.csv', header=True, inferSchema=True)\n",
    "category_df = spark.read.csv('./data/category.csv', header=True, inferSchema=True)\n",
    "city_df = spark.read.csv('./data/city.csv', header=True, inferSchema=True)\n",
    "country_df = spark.read.csv('./data/country.csv', header=True, inferSchema=True)\n",
    "customer_df = spark.read.csv('./data/customer.csv', header=True, inferSchema=True)\n",
    "film_df = spark.read.csv('./data/film.csv', header=True, inferSchema=True)\n",
    "film_actor_df = spark.read.csv('./data/film_actor.csv', header=True, inferSchema=True)\n",
    "film_category_df = spark.read.csv('./data/film_category.csv', header=True, inferSchema=True)\n",
    "inventory_df = spark.read.csv('./data/inventory.csv', header=True, inferSchema=True)\n",
    "language_df = spark.read.csv('./data/language.csv', header=True, inferSchema=True)\n",
    "payment_df = spark.read.csv('./data/payment.csv', header=True, inferSchema=True)\n",
    "rental_df = spark.read.csv('./data/rental.csv', header=True, inferSchema=True)\n",
    "staff_df = spark.read.csv('./data/staff.csv', header=True, inferSchema=True)\n",
    "store_df = spark.read.csv('./data/store.csv', header=True, inferSchema=True)\n"
   ]
  },
  {
   "cell_type": "markdown",
   "source": [
    "1. Вивести кількість фільмів в кожній категорії. Результат відсортувати за спаданням."
   ],
   "metadata": {
    "collapsed": false,
    "pycharm": {
     "name": "#%% md\n"
    }
   }
  },
  {
   "cell_type": "code",
   "execution_count": 79,
   "id": "cc6f165a-c00a-48c6-818b-8ef318f6861f",
   "metadata": {
    "pycharm": {
     "name": "#%%\n"
    }
   },
   "outputs": [
    {
     "name": "stdout",
     "output_type": "stream",
     "text": [
      "+-------------+---------+\n",
      "|Category Name|Films Num|\n",
      "+-------------+---------+\n",
      "|       Sports|       74|\n",
      "|      Foreign|       73|\n",
      "|       Family|       69|\n",
      "|  Documentary|       68|\n",
      "|    Animation|       66|\n",
      "|       Action|       64|\n",
      "|          New|       63|\n",
      "|        Drama|       62|\n",
      "|        Games|       61|\n",
      "|       Sci-Fi|       61|\n",
      "|     Children|       60|\n",
      "|       Comedy|       58|\n",
      "|       Travel|       57|\n",
      "|     Classics|       57|\n",
      "|       Horror|       56|\n",
      "|        Music|       51|\n",
      "+-------------+---------+\n",
      "\n"
     ]
    }
   ],
   "source": [
    "category_film_set = film_df.join(film_category_df, on=film_df.film_id == film_category_df.film_id, how=\"left\").join(\n",
    "    category_df, on=film_category_df.category_id == category_df.category_id, how=\"left\").select(\n",
    "    film_df.film_id, category_df.name).groupBy(\"name\").count()\n",
    "\n",
    "category_film_set.withColumnRenamed(\"count\", \"Films Num\").withColumnRenamed(\"name\", \"Category Name\").sort(\n",
    "    category_film_set[\"count\"].desc()).show()"
   ]
  },
  {
   "cell_type": "markdown",
   "source": [
    "2. Вивести 10 акторів, чиї фільми брали на прокат найбільше. Результат відсортувати за спаданням."
   ],
   "metadata": {
    "collapsed": false,
    "pycharm": {
     "name": "#%% md\n"
    }
   }
  },
  {
   "cell_type": "code",
   "execution_count": 113,
   "outputs": [
    {
     "name": "stdout",
     "output_type": "stream",
     "text": [
      "+------------------+-----------+\n",
      "|          FullName|Rentals Num|\n",
      "+------------------+-----------+\n",
      "|       SUSAN DAVIS|        825|\n",
      "|    GINA DEGENERES|        753|\n",
      "|    MATTHEW CARREY|        678|\n",
      "|       MARY KEITEL|        674|\n",
      "|ANGELA WITHERSPOON|        654|\n",
      "|       WALTER TORN|        640|\n",
      "|       HENRY BERRY|        612|\n",
      "|       JAYNE NOLTE|        611|\n",
      "|        VAL BOLGER|        605|\n",
      "|     SANDRA KILMER|        604|\n",
      "+------------------+-----------+\n",
      "\n"
     ]
    }
   ],
   "source": [
    "film_actors_set = rental_df.join(inventory_df, on=rental_df.inventory_id == inventory_df.inventory_id,\n",
    "                                 how=\"inner\").join(\n",
    "    film_df, on=inventory_df.film_id == film_df.film_id, how=\"inner\").join(\n",
    "    film_actor_df, on=film_df.film_id == film_actor_df.film_id, how=\"inner\").join(\n",
    "    actor_df, on=film_actor_df.actor_id == actor_df.actor_id, how=\"inner\").select(\n",
    "    concat_ws(\" \", actor_df.first_name, actor_df.last_name).alias(\"FullName\"), rental_df.rental_id)\n",
    "\n",
    "film_actors_set.select(\"FullName\").groupBy(\"FullName\").count().withColumnRenamed(\"count\", \"Rentals Num\").sort(\n",
    "    col(\"count\").desc()).limit(10).show()\n"
   ],
   "metadata": {
    "collapsed": false,
    "pycharm": {
     "name": "#%%\n"
    }
   }
  },
  {
   "cell_type": "markdown",
   "source": [
    "3. Вивести категорія фільмів, на яку було витрачено найбільше грошей в прокаті"
   ],
   "metadata": {
    "collapsed": false,
    "pycharm": {
     "name": "#%% md\n"
    }
   }
  },
  {
   "cell_type": "code",
   "execution_count": 122,
   "outputs": [
    {
     "name": "stdout",
     "output_type": "stream",
     "text": [
      "+-------------+-----------------+\n",
      "|Category Name| Films Rental Sum|\n",
      "+-------------+-----------------+\n",
      "|       Sports|5314.209999999848|\n",
      "+-------------+-----------------+\n",
      "\n"
     ]
    }
   ],
   "source": [
    "film_rental_set = rental_df.join(inventory_df, on=rental_df.inventory_id == inventory_df.inventory_id,\n",
    "                                 how=\"inner\").join(\n",
    "    film_df, on=inventory_df.film_id == film_df.film_id, how=\"inner\").join(\n",
    "    film_category_df, on=film_df.film_id == film_category_df.film_id, how=\"inner\").join(\n",
    "    category_df, on=film_category_df.category_id == category_df.category_id, how=\"inner\").join(\n",
    "    payment_df, on=rental_df.rental_id == payment_df.rental_id, how=\"inner\").select(\n",
    "    category_df.name.alias(\"Category Name\"), payment_df.amount)\n",
    "\n",
    "film_rental_set.select([\"Category Name\", \"amount\"]).groupBy(\"Category Name\").sum(\"amount\").withColumnRenamed(\n",
    "    \"sum(amount)\", \"Films Rental Sum\").sort(col(\"sum(amount)\").desc()).limit(1).show()\n",
    "\n"
   ],
   "metadata": {
    "collapsed": false,
    "pycharm": {
     "name": "#%%\n"
    }
   }
  },
  {
   "cell_type": "markdown",
   "source": [
    "4. Вивести назви фільмів, яких не має в inventory. Запит має бути без оператора IN"
   ],
   "metadata": {
    "collapsed": false,
    "pycharm": {
     "name": "#%% md\n"
    }
   }
  },
  {
   "cell_type": "code",
   "execution_count": 126,
   "outputs": [
    {
     "name": "stdout",
     "output_type": "stream",
     "text": [
      "+--------------------+\n",
      "|               title|\n",
      "+--------------------+\n",
      "|      ALICE FANTASIA|\n",
      "|         APOLLO TEEN|\n",
      "|      ARGONAUTS TOWN|\n",
      "|       ARK RIDGEMONT|\n",
      "|ARSENIC INDEPENDENCE|\n",
      "|   BOONDOCK BALLROOM|\n",
      "|       BUTCH PANTHER|\n",
      "|       CATCH AMISTAD|\n",
      "| CHINATOWN GLADIATOR|\n",
      "|      CHOCOLATE DUCK|\n",
      "|COMMANDMENTS EXPRESS|\n",
      "|    CROSSING DIVORCE|\n",
      "|     CROWDS TELEMARK|\n",
      "|    CRYSTAL BREAKING|\n",
      "|          DAZED PUNK|\n",
      "|DELIVERANCE MULHO...|\n",
      "|   FIREHOUSE VIETNAM|\n",
      "|       FLOATS GARDEN|\n",
      "|FRANKENSTEIN STRA...|\n",
      "|  GLADIATOR WESTWARD|\n",
      "+--------------------+\n",
      "only showing top 20 rows\n",
      "\n"
     ]
    }
   ],
   "source": [
    "film_not_at_inventory_set = film_df.join(inventory_df, on=film_df.film_id == inventory_df.film_id, how=\"leftanti\")\n",
    "film_not_at_inventory_set.select([\"title\"]).show()"
   ],
   "metadata": {
    "collapsed": false,
    "pycharm": {
     "name": "#%%\n"
    }
   }
  },
  {
   "cell_type": "markdown",
   "source": [
    "5. Вивести топ 3 актори, які найбільше зʼявлялись в категорії фільмів “Children”"
   ],
   "metadata": {
    "collapsed": false,
    "pycharm": {
     "name": "#%% md\n"
    }
   }
  },
  {
   "cell_type": "code",
   "execution_count": 149,
   "outputs": [
    {
     "name": "stdout",
     "output_type": "stream",
     "text": [
      "+------------+\n",
      "|   Full Name|\n",
      "+------------+\n",
      "|HELEN VOIGHT|\n",
      "| SUSAN DAVIS|\n",
      "|  MARY TANDY|\n",
      "+------------+\n",
      "\n"
     ]
    }
   ],
   "source": [
    "category_actors_set = film_df.join(film_actor_df, on=film_df.film_id == film_actor_df.film_id, how=\"inner\").join(\n",
    "    actor_df, on=film_actor_df.actor_id == actor_df.actor_id, how=\"inner\").join(\n",
    "    film_category_df, on=film_df.film_id == film_category_df.film_id, how=\"inner\").join(\n",
    "    category_df, on=film_category_df.category_id == category_df.category_id, how=\"inner\").select(\n",
    "    concat_ws(\" \", actor_df.first_name, actor_df.last_name).alias(\"Full Name\"), film_df.film_id).filter(\n",
    "    category_df.name == \"Children\").groupBy(\"Full Name\").count()\n",
    "\n",
    "category_actors_set.select([\"Full Name\"]).sort(col(\"count\").desc()).limit(3).show()\n",
    "\n"
   ],
   "metadata": {
    "collapsed": false,
    "pycharm": {
     "name": "#%%\n"
    }
   }
  },
  {
   "cell_type": "markdown",
   "source": [
    "6. Вивести міста з кількістю активних та неактивних клієнтів (в активних customer.active = 1). Результат відсортувати за кількістю неактивних клієнтів за спаданням."
   ],
   "metadata": {
    "collapsed": false,
    "pycharm": {
     "name": "#%% md\n"
    }
   }
  },
  {
   "cell_type": "code",
   "execution_count": 182,
   "outputs": [
    {
     "name": "stdout",
     "output_type": "stream",
     "text": [
      "+------------------+-------------------+-----------------------+\n",
      "|              city|Active Customer Num|Non Active Customer Num|\n",
      "+------------------+-------------------+-----------------------+\n",
      "|         Pingxiang|                  0|                      1|\n",
      "|       Szkesfehrvr|                  0|                      1|\n",
      "|  Charlotte Amalie|                  0|                      1|\n",
      "|         Najafabad|                  0|                      1|\n",
      "|           Wroclaw|                  0|                      1|\n",
      "|            Ktahya|                  0|                      1|\n",
      "|            Amroha|                  0|                      1|\n",
      "|           Bat Yam|                  0|                      1|\n",
      "|   Southend-on-Sea|                  0|                      1|\n",
      "|            Kamyin|                  0|                      1|\n",
      "|          Xiangfan|                  0|                      1|\n",
      "|            Daxian|                  0|                      1|\n",
      "|          Uluberia|                  0|                      1|\n",
      "|     Coatzacoalcos|                  0|                      1|\n",
      "|        Kumbakonam|                  0|                      1|\n",
      "|A Corua (La Corua)|                  1|                      0|\n",
      "|          Fengshan|                  1|                      0|\n",
      "|          Chisinau|                  1|                      0|\n",
      "|              Linz|                  1|                      0|\n",
      "|           El Alto|                  1|                      0|\n",
      "+------------------+-------------------+-----------------------+\n",
      "only showing top 20 rows\n",
      "\n"
     ]
    }
   ],
   "source": [
    "# Put to the data set active cities with client number\n",
    "city_active_client_set = customer_df.join(address_df, on=customer_df.address_id == address_df.address_id,\n",
    "                                          how=\"right\").join(\n",
    "    city_df, on=address_df.city_id == city_df.city_id, how=\"right\").select(\n",
    "    city_df.city.alias(\"city_active_client\"), customer_df.active).filter(customer_df.active == 1).groupBy(\n",
    "    \"city_active_client\").count().sort(\n",
    "    col(\"count\").desc())\n",
    "\n",
    "# Put to the _another_ data set *non* active cities with client number\n",
    "city_non_active_client_set = customer_df.join(address_df, on=customer_df.address_id == address_df.address_id,\n",
    "                                              how=\"right\").join(\n",
    "    city_df, on=address_df.city_id == city_df.city_id, how=\"right\").select(\n",
    "    city_df.city.alias(\"city_non_active_client\"), customer_df.active).filter(customer_df.active == 0).groupBy(\n",
    "    \"city_non_active_client\").count().sort(\n",
    "    col(\"count\").desc())\n",
    "\n",
    "# Join datasets from above with city_df\n",
    "city_all_client_set = city_df.join(city_active_client_set, on=city_df.city == city_active_client_set.city_active_client,\n",
    "                                   how='left').join(city_non_active_client_set,\n",
    "                                                    on=city_df.city == city_non_active_client_set.city_non_active_client,\n",
    "                                                    how='left').select(\n",
    "    city_df.city,\n",
    "    city_active_client_set[\"count\"].alias(\"Active Customer Num\"),\n",
    "    city_non_active_client_set[\"count\"].alias(\"Non Active Customer Num\")).sort(\n",
    "    col(\"Non Active Customer Num\").desc()).na.fill(value=0).show()\n"
   ],
   "metadata": {
    "collapsed": false,
    "pycharm": {
     "name": "#%%\n"
    }
   }
  }
 ],
 "metadata": {
  "kernelspec": {
   "display_name": "Python 3 (ipykernel)",
   "language": "python",
   "name": "python3"
  },
  "language_info": {
   "codemirror_mode": {
    "name": "ipython",
    "version": 3
   },
   "file_extension": ".py",
   "mimetype": "text/x-python",
   "name": "python",
   "nbconvert_exporter": "python",
   "pygments_lexer": "ipython3",
   "version": "3.8.2"
  }
 },
 "nbformat": 4,
 "nbformat_minor": 5
}